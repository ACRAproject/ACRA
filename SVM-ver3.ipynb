{
 "cells": [
  {
   "cell_type": "markdown",
   "metadata": {},
   "source": [
    "# Importing Libraries"
   ]
  },
  {
   "cell_type": "code",
   "execution_count": 1,
   "metadata": {},
   "outputs": [],
   "source": [
    "import os\n",
    "\n",
    "import matplotlib as mpl\n",
    "import matplotlib.pyplot as plt\n",
    "\n",
    "import cv2\n",
    "import pandas as pd\n",
    "import numpy as np\n",
    "import mahotas\n",
    "\n",
    "from PIL import Image,ImageOps\n",
    "\n",
    "from skimage.feature import hog\n",
    "from skimage.color import rgb2grey\n",
    "\n",
    "from sklearn.model_selection import train_test_split\n",
    "from sklearn.metrics import accuracy_score\n",
    "from sklearn.preprocessing import StandardScaler\n",
    "from sklearn.decomposition import PCA\n",
    "from sklearn.svm import SVC\n",
    "\n",
    "from sklearn.metrics import roc_curve, auc"
   ]
  },
  {
   "cell_type": "markdown",
   "metadata": {},
   "source": [
    "# Image and Data Preprocessing and Feature Extraction"
   ]
  },
  {
   "cell_type": "markdown",
   "metadata": {},
   "source": [
    "## Feature Extraction Functions"
   ]
  },
  {
   "cell_type": "code",
   "execution_count": 2,
   "metadata": {},
   "outputs": [],
   "source": [
    "def fd_hu_moments(image):\n",
    "    feature = cv2.HuMoments(cv2.moments(image)).flatten()\n",
    "    return feature\n",
    "\n",
    "def fd_haralick(image): \n",
    "    # compute the haralick texture feature vector\n",
    "    haralick = mahotas.features.haralick(image).mean(axis=0)\n",
    "    return haralick\n",
    "\n",
    "def create_features(img):\n",
    "    # flatten three channel color image\n",
    "    #color_features = img.flatten()\n",
    "    # convert image to greyscale\n",
    "    grey_image = rgb2grey(img)\n",
    "    # get HOG features from greyscale image\n",
    "    hog_features,hog_imgs = hog(grey_image, orientations=9, pixels_per_cell=(4, 4),cells_per_block=(2, 2),visualize=True)  #got total 324 features,after checking I wrote this.\n",
    "    # combine all features into a single array\n",
    "    hu_features = fd_hu_moments(img)  #Total 7 features\n",
    "    haralick_features = fd_haralick(img)  #Total 13 features\n",
    "    #print('no. of features => hog=',len(hog_features),', hu=',len(hu_features),', haralick=',len(haralick_features))\n",
    "    flat_features = np.hstack([hog_features,hu_features,haralick_features])\n",
    "    return flat_features"
   ]
  },
  {
   "cell_type": "code",
   "execution_count": 3,
   "metadata": {},
   "outputs": [],
   "source": [
    "def getImage(path):\n",
    "    img = Image.open(path)\n",
    "    img = ImageOps.fit(img,(64,64),Image.ANTIALIAS)\n",
    "    img = np.array(img)\n",
    "    return img\n",
    "\n",
    "def getDF(path): #get DataFrame\n",
    "    features_list=[]\n",
    "    for file in os.listdir(path):\n",
    "        path1 = os.path.join(path+file)\n",
    "        img = getImage(path1)\n",
    "        fr = create_features(img)\n",
    "        features_list.append(fr)\n",
    "    feature_matrix = np.array(features_list)\n",
    "    return feature_matrix"
   ]
  },
  {
   "cell_type": "markdown",
   "metadata": {},
   "source": [
    "### Preparing Training Set"
   ]
  },
  {
   "cell_type": "code",
   "execution_count": 4,
   "metadata": {},
   "outputs": [],
   "source": [
    "train1 = getDF('.\\\\train\\\\NORMAL\\\\')"
   ]
  },
  {
   "cell_type": "code",
   "execution_count": 10,
   "metadata": {},
   "outputs": [
    {
     "data": {
      "text/plain": [
       "array([[ 0.13829613,  0.        ,  0.        , ...,  5.17048539,\n",
       "        -0.38483317,  0.99837777],\n",
       "       [ 0.2520088 ,  0.30773162,  0.30773162, ...,  5.35489435,\n",
       "        -0.36338669,  0.99783129],\n",
       "       [ 0.3244928 ,  0.03073737,  0.        , ...,  5.09888993,\n",
       "        -0.35587406,  0.99720542],\n",
       "       ...,\n",
       "       [ 0.39171518,  0.19374719,  0.        , ...,  4.69333821,\n",
       "        -0.34790142,  0.99617359],\n",
       "       [ 0.12677086,  0.        ,  0.13111985, ...,  4.82680968,\n",
       "        -0.35097743,  0.99651501],\n",
       "       [ 0.33712332,  0.        ,  0.        , ...,  4.87480457,\n",
       "        -0.38654834,  0.99814414]])"
      ]
     },
     "execution_count": 10,
     "metadata": {},
     "output_type": "execute_result"
    }
   ],
   "source": [
    "train1"
   ]
  },
  {
   "cell_type": "code",
   "execution_count": 8,
   "metadata": {},
   "outputs": [
    {
     "data": {
      "text/plain": [
       "(1341, 8120)"
      ]
     },
     "execution_count": 8,
     "metadata": {},
     "output_type": "execute_result"
    }
   ],
   "source": [
    "train1.shape"
   ]
  },
  {
   "cell_type": "code",
   "execution_count": 11,
   "metadata": {},
   "outputs": [],
   "source": [
    "pca = PCA(n_components=100)\n",
    "train1 = pca.fit_transform(train1)"
   ]
  },
  {
   "cell_type": "code",
   "execution_count": 12,
   "metadata": {},
   "outputs": [
    {
     "data": {
      "text/plain": [
       "(1341, 100)"
      ]
     },
     "execution_count": 12,
     "metadata": {},
     "output_type": "execute_result"
    }
   ],
   "source": [
    "train1.shape"
   ]
  },
  {
   "cell_type": "code",
   "execution_count": 13,
   "metadata": {},
   "outputs": [],
   "source": [
    "ss = StandardScaler()\n",
    "train1 = ss.fit_transform(train1)"
   ]
  },
  {
   "cell_type": "code",
   "execution_count": 14,
   "metadata": {},
   "outputs": [],
   "source": [
    "label1 = np.array(['normal']*1341).reshape(-1,1) #1341 is no. of rows in train1\n",
    "train1 = np.concatenate((train1,label1),axis=1)"
   ]
  },
  {
   "cell_type": "code",
   "execution_count": 15,
   "metadata": {
    "scrolled": true
   },
   "outputs": [
    {
     "data": {
      "text/plain": [
       "array([['0.6864043909191616', '-1.1578634753077777',\n",
       "        '-0.14978184392678884', ..., '-0.266531406013027',\n",
       "        '-0.09254903651618077', 'normal'],\n",
       "       ['0.01234082264659507', '0.8260274065765886',\n",
       "        '1.4452979015586724', ..., '0.5513439925735877',\n",
       "        '-0.4151086687538014', 'normal'],\n",
       "       ['-0.38717981596379225', '-0.48466938275323734',\n",
       "        '-0.5558592264756236', ..., '-0.543353147694312',\n",
       "        '-1.3317208106625964', 'normal'],\n",
       "       ...,\n",
       "       ['-1.0734563067236438', '-1.7159640591639018',\n",
       "        '1.7986716440447694', ..., '2.1460549701265577',\n",
       "        '-0.556784473973163', 'normal'],\n",
       "       ['-1.01467170397635', '-1.0817555352470756',\n",
       "        '-0.5945200891874015', ..., '0.2768146149408373',\n",
       "        '0.7258556862560157', 'normal'],\n",
       "       ['0.20280017928417038', '-1.9517575114412793',\n",
       "        '2.605164445736288', ..., '1.0906475586952997',\n",
       "        '-0.7781712865596657', 'normal']], dtype='<U32')"
      ]
     },
     "execution_count": 15,
     "metadata": {},
     "output_type": "execute_result"
    }
   ],
   "source": [
    "train1"
   ]
  },
  {
   "cell_type": "code",
   "execution_count": 16,
   "metadata": {},
   "outputs": [],
   "source": [
    "# Doing same operations to get train2(Pneumonia part)\n",
    "train2 = getDF('.\\\\train\\\\PNEUMONIA\\\\')\n",
    "pca = PCA(n_components=100)\n",
    "train2 = pca.fit_transform(train2)\n",
    "ss = StandardScaler()\n",
    "train2 = ss.fit_transform(train2)"
   ]
  },
  {
   "cell_type": "code",
   "execution_count": 17,
   "metadata": {},
   "outputs": [
    {
     "data": {
      "text/plain": [
       "(3592, 100)"
      ]
     },
     "execution_count": 17,
     "metadata": {},
     "output_type": "execute_result"
    }
   ],
   "source": [
    "train2.shape"
   ]
  },
  {
   "cell_type": "code",
   "execution_count": 18,
   "metadata": {},
   "outputs": [],
   "source": [
    "label2 = np.array(['pneumonia']*3592).reshape(-1,1) #3592 is no. of rows in train2\n",
    "train2 = np.concatenate((train2,label2),axis=1)"
   ]
  },
  {
   "cell_type": "code",
   "execution_count": 19,
   "metadata": {},
   "outputs": [
    {
     "data": {
      "text/plain": [
       "(3592, 101)"
      ]
     },
     "execution_count": 19,
     "metadata": {},
     "output_type": "execute_result"
    }
   ],
   "source": [
    "train2.shape"
   ]
  },
  {
   "cell_type": "code",
   "execution_count": 20,
   "metadata": {},
   "outputs": [],
   "source": [
    "train_set = np.concatenate((train1,train2),axis=0)"
   ]
  },
  {
   "cell_type": "code",
   "execution_count": 21,
   "metadata": {},
   "outputs": [
    {
     "data": {
      "text/plain": [
       "array([['0.6864043909191616', '-1.1578634753077777',\n",
       "        '-0.14978184392678884', ..., '-0.266531406013027',\n",
       "        '-0.09254903651618077', 'normal'],\n",
       "       ['0.01234082264659507', '0.8260274065765886',\n",
       "        '1.4452979015586724', ..., '0.5513439925735877',\n",
       "        '-0.4151086687538014', 'normal'],\n",
       "       ['-0.38717981596379225', '-0.48466938275323734',\n",
       "        '-0.5558592264756236', ..., '-0.543353147694312',\n",
       "        '-1.3317208106625964', 'normal'],\n",
       "       ...,\n",
       "       ['0.26367279199178006', '-1.0559742194290351',\n",
       "        '-0.18049301706116777', ..., '-1.380185542194111',\n",
       "        '-0.8371160865995119', 'pneumonia'],\n",
       "       ['-0.9978129912932912', '0.1965075016450941',\n",
       "        '-0.8198437032138226', ..., '-0.03522930142488456',\n",
       "        '0.00882506744500263', 'pneumonia'],\n",
       "       ['-0.5403224282990343', '-0.6383764105905336',\n",
       "        '0.4344641212266098', ..., '-0.3596217694403383',\n",
       "        '-0.12446372531956615', 'pneumonia']], dtype='<U32')"
      ]
     },
     "execution_count": 21,
     "metadata": {},
     "output_type": "execute_result"
    }
   ],
   "source": [
    "train_set"
   ]
  },
  {
   "cell_type": "code",
   "execution_count": 22,
   "metadata": {
    "scrolled": true
   },
   "outputs": [
    {
     "data": {
      "text/plain": [
       "(4933, 101)"
      ]
     },
     "execution_count": 22,
     "metadata": {},
     "output_type": "execute_result"
    }
   ],
   "source": [
    "train_set.shape"
   ]
  },
  {
   "cell_type": "code",
   "execution_count": 23,
   "metadata": {},
   "outputs": [],
   "source": [
    "np.random.shuffle(train_set)"
   ]
  },
  {
   "cell_type": "code",
   "execution_count": 22,
   "metadata": {},
   "outputs": [
    {
     "data": {
      "text/plain": [
       "array([['1.2708176814340306', '-1.5906594389338347',\n",
       "        '1.4577351540280412', ..., '-0.2302765842761266',\n",
       "        '-0.5913948086706202', 'pneumonia'],\n",
       "       ['-0.15949459150556328', '0.09522725426458803',\n",
       "        '-0.7347119625501648', ..., '-0.7486410055835269',\n",
       "        '0.4263836016780033', 'pneumonia'],\n",
       "       ['0.6923839973054228', '0.49389224325601266', '2.166188833952168',\n",
       "        ..., '-2.5904956700061827', '-0.44881524487635954', 'pneumonia'],\n",
       "       ...,\n",
       "       ['1.9096313175423167', '0.09336692529687783',\n",
       "        '0.7537674156873273', ..., '-0.6585973080721648',\n",
       "        '0.5887410140472499', 'pneumonia'],\n",
       "       ['-1.9961488242217835', '0.20529015420204283',\n",
       "        '-0.8913185825217947', ..., '-0.3301031560862101',\n",
       "        '1.8805190482650114', 'pneumonia'],\n",
       "       ['0.13956210027994295', '-0.9085046002449325',\n",
       "        '-0.07117935667350593', ..., '1.6133258891914415',\n",
       "        '1.7342866553798013', 'pneumonia']], dtype='<U32')"
      ]
     },
     "execution_count": 22,
     "metadata": {},
     "output_type": "execute_result"
    }
   ],
   "source": [
    "train_set"
   ]
  },
  {
   "cell_type": "markdown",
   "metadata": {},
   "source": [
    "## Preparing test set"
   ]
  },
  {
   "cell_type": "code",
   "execution_count": 24,
   "metadata": {},
   "outputs": [],
   "source": [
    "test1 = getDF('.\\\\test\\\\NORMAL\\\\')\n",
    "pca = PCA(n_components=100)\n",
    "test1 = pca.fit_transform(test1)\n",
    "ss = StandardScaler()\n",
    "test1 = ss.fit_transform(test1)"
   ]
  },
  {
   "cell_type": "code",
   "execution_count": 25,
   "metadata": {},
   "outputs": [
    {
     "data": {
      "text/plain": [
       "(234, 100)"
      ]
     },
     "execution_count": 25,
     "metadata": {},
     "output_type": "execute_result"
    }
   ],
   "source": [
    "test1.shape"
   ]
  },
  {
   "cell_type": "code",
   "execution_count": 26,
   "metadata": {},
   "outputs": [],
   "source": [
    "label1 = np.array(['normal']*234).reshape(-1,1) #234 is no. of rows in test1\n",
    "test1 = np.concatenate((test1,label1),axis=1)"
   ]
  },
  {
   "cell_type": "code",
   "execution_count": 27,
   "metadata": {},
   "outputs": [
    {
     "data": {
      "text/plain": [
       "array([['0.2435974505168652', '-0.20022577281389617',\n",
       "        '-0.0714450980205829', ..., '0.2715431284374765',\n",
       "        '1.4142648225207914', 'normal'],\n",
       "       ['-0.3189901459820519', '0.17915871217475202',\n",
       "        '-1.3390605474782116', ..., '-0.11387714473892618',\n",
       "        '-0.10840600806874298', 'normal'],\n",
       "       ['0.548359998105811', '-0.7729182156077122',\n",
       "        '-0.1565039326723877', ..., '-0.9888292880158444',\n",
       "        '0.6602845993509231', 'normal'],\n",
       "       ...,\n",
       "       ['-0.5811702389675427', '0.6214823875948488',\n",
       "        '1.8871507910294323', ..., '0.9571549171394201',\n",
       "        '-1.0552814941348532', 'normal'],\n",
       "       ['0.03400204407887488', '-0.48859107325734275',\n",
       "        '-0.25059911934538437', ..., '0.9115307648919669',\n",
       "        '0.616068537271108', 'normal'],\n",
       "       ['-0.17690917421935723', '-0.9404727800001073',\n",
       "        '-0.022728557846579622', ..., '0.48535151492965567',\n",
       "        '-0.8314869392686487', 'normal']], dtype='<U32')"
      ]
     },
     "execution_count": 27,
     "metadata": {},
     "output_type": "execute_result"
    }
   ],
   "source": [
    "test1"
   ]
  },
  {
   "cell_type": "code",
   "execution_count": 28,
   "metadata": {},
   "outputs": [],
   "source": [
    "test2 = getDF('.\\\\test\\\\PNEUMONIA\\\\')\n",
    "pca = PCA(n_components=100)\n",
    "test2 = pca.fit_transform(test2)\n",
    "ss = StandardScaler()\n",
    "test2 = ss.fit_transform(test2)"
   ]
  },
  {
   "cell_type": "code",
   "execution_count": 29,
   "metadata": {},
   "outputs": [
    {
     "data": {
      "text/plain": [
       "(390, 100)"
      ]
     },
     "execution_count": 29,
     "metadata": {},
     "output_type": "execute_result"
    }
   ],
   "source": [
    "test2.shape"
   ]
  },
  {
   "cell_type": "code",
   "execution_count": 30,
   "metadata": {},
   "outputs": [],
   "source": [
    "label2 = np.array(['pneumonia']*390).reshape(-1,1) #390 is no. of rows in test2\n",
    "test2 = np.concatenate((test2,label2),axis=1)"
   ]
  },
  {
   "cell_type": "code",
   "execution_count": 31,
   "metadata": {},
   "outputs": [
    {
     "data": {
      "text/plain": [
       "(390, 101)"
      ]
     },
     "execution_count": 31,
     "metadata": {},
     "output_type": "execute_result"
    }
   ],
   "source": [
    "test2.shape"
   ]
  },
  {
   "cell_type": "code",
   "execution_count": 32,
   "metadata": {},
   "outputs": [],
   "source": [
    "test_set = np.concatenate((test1,test2),axis=0)"
   ]
  },
  {
   "cell_type": "code",
   "execution_count": 33,
   "metadata": {},
   "outputs": [
    {
     "data": {
      "text/plain": [
       "(624, 101)"
      ]
     },
     "execution_count": 33,
     "metadata": {},
     "output_type": "execute_result"
    }
   ],
   "source": [
    "test_set.shape"
   ]
  },
  {
   "cell_type": "code",
   "execution_count": 34,
   "metadata": {},
   "outputs": [
    {
     "data": {
      "text/plain": [
       "array([['0.2435974505168652', '-0.20022577281389617',\n",
       "        '-0.0714450980205829', ..., '0.2715431284374765',\n",
       "        '1.4142648225207914', 'normal'],\n",
       "       ['-0.3189901459820519', '0.17915871217475202',\n",
       "        '-1.3390605474782116', ..., '-0.11387714473892618',\n",
       "        '-0.10840600806874298', 'normal'],\n",
       "       ['0.548359998105811', '-0.7729182156077122',\n",
       "        '-0.1565039326723877', ..., '-0.9888292880158444',\n",
       "        '0.6602845993509231', 'normal'],\n",
       "       ...,\n",
       "       ['-0.36355557355225915', '0.7670313762901496',\n",
       "        '-1.243197654458368', ..., '-1.696556189162131',\n",
       "        '1.072775091836771', 'pneumonia'],\n",
       "       ['0.36613780798917467', '0.28965492998255554',\n",
       "        '-0.09134331678693175', ..., '-0.46568585432133086',\n",
       "        '0.8260306197907766', 'pneumonia'],\n",
       "       ['1.5024863252450076', '0.5041729270324699',\n",
       "        '-0.6276581888932901', ..., '0.5750047743286817',\n",
       "        '-0.3523680732404671', 'pneumonia']], dtype='<U32')"
      ]
     },
     "execution_count": 34,
     "metadata": {},
     "output_type": "execute_result"
    }
   ],
   "source": [
    "test_set"
   ]
  },
  {
   "cell_type": "code",
   "execution_count": 35,
   "metadata": {},
   "outputs": [],
   "source": [
    "np.random.shuffle(test_set)  #so as to mix data"
   ]
  },
  {
   "cell_type": "code",
   "execution_count": 36,
   "metadata": {},
   "outputs": [
    {
     "data": {
      "text/plain": [
       "array([['-0.472328445619833', '1.0856749104255496',\n",
       "        '-0.7498223394349696', ..., '-0.18517366587103312',\n",
       "        '-0.04209246187223929', 'normal'],\n",
       "       ['-1.6112131578610644', '0.13864809854227939',\n",
       "        '-0.30914738059180874', ..., '1.0343751798653746',\n",
       "        '0.07364042899342974', 'normal'],\n",
       "       ['-1.3952673776523947', '0.49855169717188313',\n",
       "        '-0.49942465842019046', ..., '0.9189371578179882',\n",
       "        '-0.8814727071071546', 'pneumonia'],\n",
       "       ...,\n",
       "       ['0.5238222497771975', '-1.5117627302426342',\n",
       "        '0.4337867584050859', ..., '0.6660620677972664',\n",
       "        '1.675814387586313', 'pneumonia'],\n",
       "       ['-0.833359176399394', '0.5555129678149998',\n",
       "        '-1.4567653884719358', ..., '-0.11672203664793739',\n",
       "        '0.7853140579003111', 'pneumonia'],\n",
       "       ['1.3380108104140156', '-0.57214533414723', '-1.0827398370118677',\n",
       "        ..., '0.1924176694792265', '-0.5225341168863505', 'pneumonia']],\n",
       "      dtype='<U32')"
      ]
     },
     "execution_count": 36,
     "metadata": {},
     "output_type": "execute_result"
    }
   ],
   "source": [
    "test_set"
   ]
  },
  {
   "cell_type": "markdown",
   "metadata": {},
   "source": [
    "### Now Our train_set and test_set is ready "
   ]
  },
  {
   "cell_type": "markdown",
   "metadata": {},
   "source": [
    "### Creating DataFrames from Numpy Arrays and then saving to CSV files"
   ]
  },
  {
   "cell_type": "code",
   "execution_count": 37,
   "metadata": {},
   "outputs": [],
   "source": [
    "train = pd.DataFrame(train_set)\n",
    "test = pd.DataFrame(test_set)"
   ]
  },
  {
   "cell_type": "code",
   "execution_count": 38,
   "metadata": {},
   "outputs": [],
   "source": [
    "train.to_csv('train_set_new(1).csv')\n",
    "test.to_csv('test_set_new(1).csv')"
   ]
  },
  {
   "cell_type": "code",
   "execution_count": 39,
   "metadata": {},
   "outputs": [
    {
     "data": {
      "text/html": [
       "<div>\n",
       "<style scoped>\n",
       "    .dataframe tbody tr th:only-of-type {\n",
       "        vertical-align: middle;\n",
       "    }\n",
       "\n",
       "    .dataframe tbody tr th {\n",
       "        vertical-align: top;\n",
       "    }\n",
       "\n",
       "    .dataframe thead th {\n",
       "        text-align: right;\n",
       "    }\n",
       "</style>\n",
       "<table border=\"1\" class=\"dataframe\">\n",
       "  <thead>\n",
       "    <tr style=\"text-align: right;\">\n",
       "      <th></th>\n",
       "      <th>0</th>\n",
       "      <th>1</th>\n",
       "      <th>2</th>\n",
       "      <th>3</th>\n",
       "      <th>4</th>\n",
       "      <th>5</th>\n",
       "      <th>6</th>\n",
       "      <th>7</th>\n",
       "      <th>8</th>\n",
       "      <th>9</th>\n",
       "      <th>...</th>\n",
       "      <th>91</th>\n",
       "      <th>92</th>\n",
       "      <th>93</th>\n",
       "      <th>94</th>\n",
       "      <th>95</th>\n",
       "      <th>96</th>\n",
       "      <th>97</th>\n",
       "      <th>98</th>\n",
       "      <th>99</th>\n",
       "      <th>100</th>\n",
       "    </tr>\n",
       "  </thead>\n",
       "  <tbody>\n",
       "    <tr>\n",
       "      <th>0</th>\n",
       "      <td>0.1572669686353674</td>\n",
       "      <td>-0.5751435673047</td>\n",
       "      <td>0.12668787978384385</td>\n",
       "      <td>0.6768619115638205</td>\n",
       "      <td>0.12646136564845298</td>\n",
       "      <td>-1.9198492690708728</td>\n",
       "      <td>1.7324391892693887</td>\n",
       "      <td>0.6165822626790302</td>\n",
       "      <td>0.3293250216180348</td>\n",
       "      <td>-1.1493721861709472</td>\n",
       "      <td>...</td>\n",
       "      <td>-0.9933243349219238</td>\n",
       "      <td>-1.6304201463070906</td>\n",
       "      <td>0.023476119328459357</td>\n",
       "      <td>-1.5398981130055838</td>\n",
       "      <td>0.8871276760053102</td>\n",
       "      <td>-0.5390077421300565</td>\n",
       "      <td>0.9770791308098298</td>\n",
       "      <td>0.7377718992091017</td>\n",
       "      <td>-0.48151133301988425</td>\n",
       "      <td>pneumonia</td>\n",
       "    </tr>\n",
       "    <tr>\n",
       "      <th>1</th>\n",
       "      <td>-0.8357224368221275</td>\n",
       "      <td>-1.7313486451456674</td>\n",
       "      <td>-0.2832128892433425</td>\n",
       "      <td>-0.3267970267264208</td>\n",
       "      <td>2.225977714144977</td>\n",
       "      <td>0.519542913738108</td>\n",
       "      <td>-0.05967076909497569</td>\n",
       "      <td>-0.9518324090548493</td>\n",
       "      <td>1.0511325714207704</td>\n",
       "      <td>-1.5423913191516938</td>\n",
       "      <td>...</td>\n",
       "      <td>1.4286403694254382</td>\n",
       "      <td>0.21492445281762396</td>\n",
       "      <td>0.2367266548234994</td>\n",
       "      <td>0.7356566412318781</td>\n",
       "      <td>0.7933243514723572</td>\n",
       "      <td>-0.9477045363246078</td>\n",
       "      <td>-0.043213843456927394</td>\n",
       "      <td>-0.06089144638060754</td>\n",
       "      <td>0.4523886393127524</td>\n",
       "      <td>normal</td>\n",
       "    </tr>\n",
       "    <tr>\n",
       "      <th>2</th>\n",
       "      <td>-0.31020029495836293</td>\n",
       "      <td>0.7855158527897361</td>\n",
       "      <td>-1.2895001419823624</td>\n",
       "      <td>-1.0894517782157338</td>\n",
       "      <td>-0.12850648608614182</td>\n",
       "      <td>-0.19491822694475236</td>\n",
       "      <td>1.7179805385261233</td>\n",
       "      <td>-0.7484331389259488</td>\n",
       "      <td>-1.279297905819819</td>\n",
       "      <td>1.7028705588642876</td>\n",
       "      <td>...</td>\n",
       "      <td>-1.034225142322296</td>\n",
       "      <td>-0.20892849239310327</td>\n",
       "      <td>0.4664602985182261</td>\n",
       "      <td>-0.7332807654894302</td>\n",
       "      <td>0.29346437381590657</td>\n",
       "      <td>0.01590860525721144</td>\n",
       "      <td>0.12991518808013874</td>\n",
       "      <td>0.6082296408769199</td>\n",
       "      <td>1.0033015449687213</td>\n",
       "      <td>normal</td>\n",
       "    </tr>\n",
       "    <tr>\n",
       "      <th>3</th>\n",
       "      <td>0.3867202734341585</td>\n",
       "      <td>-0.5595308940567283</td>\n",
       "      <td>-0.5285513844520184</td>\n",
       "      <td>0.9997883417388166</td>\n",
       "      <td>2.0793171054372417</td>\n",
       "      <td>-0.9376887471568977</td>\n",
       "      <td>-0.492586425127101</td>\n",
       "      <td>-0.47758461515481443</td>\n",
       "      <td>0.9003613071186041</td>\n",
       "      <td>1.6670533788032431</td>\n",
       "      <td>...</td>\n",
       "      <td>-0.006582665608985058</td>\n",
       "      <td>-0.39921817601812565</td>\n",
       "      <td>-1.2021249547659822</td>\n",
       "      <td>2.080307440363077</td>\n",
       "      <td>-0.4231465421115514</td>\n",
       "      <td>1.6474135122194047</td>\n",
       "      <td>1.1499268719934541</td>\n",
       "      <td>-2.4289439845639307</td>\n",
       "      <td>1.754038529665183</td>\n",
       "      <td>pneumonia</td>\n",
       "    </tr>\n",
       "    <tr>\n",
       "      <th>4</th>\n",
       "      <td>-1.0129177077795697</td>\n",
       "      <td>0.23905031743388666</td>\n",
       "      <td>-1.0146668934900887</td>\n",
       "      <td>0.7433396123270157</td>\n",
       "      <td>-0.6166523282832391</td>\n",
       "      <td>0.09682027483135928</td>\n",
       "      <td>0.44368493106185103</td>\n",
       "      <td>2.6755468625279915</td>\n",
       "      <td>0.5250624250062926</td>\n",
       "      <td>0.8339258731962852</td>\n",
       "      <td>...</td>\n",
       "      <td>1.7671982480800932</td>\n",
       "      <td>-0.7832794412544125</td>\n",
       "      <td>0.4076333166170647</td>\n",
       "      <td>-0.4636022810525782</td>\n",
       "      <td>0.6093340070964288</td>\n",
       "      <td>1.1197179326396443</td>\n",
       "      <td>0.6625438408035123</td>\n",
       "      <td>-1.0780701074124028</td>\n",
       "      <td>0.393151139887864</td>\n",
       "      <td>pneumonia</td>\n",
       "    </tr>\n",
       "    <tr>\n",
       "      <th>...</th>\n",
       "      <td>...</td>\n",
       "      <td>...</td>\n",
       "      <td>...</td>\n",
       "      <td>...</td>\n",
       "      <td>...</td>\n",
       "      <td>...</td>\n",
       "      <td>...</td>\n",
       "      <td>...</td>\n",
       "      <td>...</td>\n",
       "      <td>...</td>\n",
       "      <td>...</td>\n",
       "      <td>...</td>\n",
       "      <td>...</td>\n",
       "      <td>...</td>\n",
       "      <td>...</td>\n",
       "      <td>...</td>\n",
       "      <td>...</td>\n",
       "      <td>...</td>\n",
       "      <td>...</td>\n",
       "      <td>...</td>\n",
       "      <td>...</td>\n",
       "    </tr>\n",
       "    <tr>\n",
       "      <th>4928</th>\n",
       "      <td>-0.6220917522521094</td>\n",
       "      <td>-0.3290027006663462</td>\n",
       "      <td>3.225325524561807</td>\n",
       "      <td>-0.14152420404212124</td>\n",
       "      <td>0.659888585080716</td>\n",
       "      <td>-1.817976784245516</td>\n",
       "      <td>-0.276273706745958</td>\n",
       "      <td>0.7860533259120324</td>\n",
       "      <td>-0.20727182920933399</td>\n",
       "      <td>-0.5263355834658527</td>\n",
       "      <td>...</td>\n",
       "      <td>0.47110169040060074</td>\n",
       "      <td>-0.6871897454001419</td>\n",
       "      <td>0.30430400270268193</td>\n",
       "      <td>-1.0858956665638266</td>\n",
       "      <td>-0.5622427516054236</td>\n",
       "      <td>1.7648424812985615</td>\n",
       "      <td>-0.48986291253953945</td>\n",
       "      <td>1.1106223195289977</td>\n",
       "      <td>0.5868364879079779</td>\n",
       "      <td>pneumonia</td>\n",
       "    </tr>\n",
       "    <tr>\n",
       "      <th>4929</th>\n",
       "      <td>-1.0515478795743878</td>\n",
       "      <td>1.1733035817456687</td>\n",
       "      <td>-0.00296470764511297</td>\n",
       "      <td>-0.3172892482184532</td>\n",
       "      <td>-0.3172478584225614</td>\n",
       "      <td>1.9851749591824865</td>\n",
       "      <td>1.0222493311619267</td>\n",
       "      <td>0.49245903876034636</td>\n",
       "      <td>1.2231284847888888</td>\n",
       "      <td>-0.6294687950854969</td>\n",
       "      <td>...</td>\n",
       "      <td>-0.7308752306879673</td>\n",
       "      <td>0.5511832205189225</td>\n",
       "      <td>-0.33428357772397715</td>\n",
       "      <td>0.2693068778989378</td>\n",
       "      <td>-0.3352565844344862</td>\n",
       "      <td>-0.6821032711567999</td>\n",
       "      <td>-0.8909170497840734</td>\n",
       "      <td>-0.3422306181909494</td>\n",
       "      <td>-0.5723155439183917</td>\n",
       "      <td>normal</td>\n",
       "    </tr>\n",
       "    <tr>\n",
       "      <th>4930</th>\n",
       "      <td>-0.21058937463242725</td>\n",
       "      <td>-0.6801585219212779</td>\n",
       "      <td>2.0241955022781726</td>\n",
       "      <td>-0.03779874840838618</td>\n",
       "      <td>0.1351427209762704</td>\n",
       "      <td>-0.9519159113292575</td>\n",
       "      <td>-0.6023554507203002</td>\n",
       "      <td>2.6588437535775373</td>\n",
       "      <td>1.0945050189965162</td>\n",
       "      <td>0.11566367466804894</td>\n",
       "      <td>...</td>\n",
       "      <td>-0.9504610834408538</td>\n",
       "      <td>-0.9464277965994826</td>\n",
       "      <td>-1.597649504451558</td>\n",
       "      <td>0.5546779458333815</td>\n",
       "      <td>0.13204839064084106</td>\n",
       "      <td>-2.051182513989279</td>\n",
       "      <td>-0.5807657171233044</td>\n",
       "      <td>1.3655499720559499</td>\n",
       "      <td>-0.1492962047878799</td>\n",
       "      <td>pneumonia</td>\n",
       "    </tr>\n",
       "    <tr>\n",
       "      <th>4931</th>\n",
       "      <td>2.300920081949459</td>\n",
       "      <td>1.6968655542823687</td>\n",
       "      <td>-0.036064676922291254</td>\n",
       "      <td>-1.1542843848544975</td>\n",
       "      <td>0.6399207024915792</td>\n",
       "      <td>0.8567945581869038</td>\n",
       "      <td>-1.3109279782217267</td>\n",
       "      <td>-0.7030273344612862</td>\n",
       "      <td>0.2697635038391198</td>\n",
       "      <td>0.554876353878161</td>\n",
       "      <td>...</td>\n",
       "      <td>-0.5496357442514755</td>\n",
       "      <td>-2.4014812331062245</td>\n",
       "      <td>0.46396197067402534</td>\n",
       "      <td>-1.656399901064892</td>\n",
       "      <td>0.20800802659430218</td>\n",
       "      <td>-0.9440476895859031</td>\n",
       "      <td>0.8887237953263709</td>\n",
       "      <td>-0.1927811481367094</td>\n",
       "      <td>0.3072388442843738</td>\n",
       "      <td>pneumonia</td>\n",
       "    </tr>\n",
       "    <tr>\n",
       "      <th>4932</th>\n",
       "      <td>0.22276716121618187</td>\n",
       "      <td>-0.8427822362723707</td>\n",
       "      <td>0.2886490698244582</td>\n",
       "      <td>0.923072282885291</td>\n",
       "      <td>0.38425385077978796</td>\n",
       "      <td>-0.6395863246310989</td>\n",
       "      <td>-0.06117629455155563</td>\n",
       "      <td>0.09818964314170554</td>\n",
       "      <td>0.9668804111356422</td>\n",
       "      <td>-0.8094554972188674</td>\n",
       "      <td>...</td>\n",
       "      <td>0.7919619262247123</td>\n",
       "      <td>-1.2848463854829626</td>\n",
       "      <td>-0.9438573276568076</td>\n",
       "      <td>0.7011715010037807</td>\n",
       "      <td>-0.1236102037326028</td>\n",
       "      <td>-1.8719440430315146</td>\n",
       "      <td>-0.5928025316631209</td>\n",
       "      <td>0.0007814505378773548</td>\n",
       "      <td>1.1370838620936337</td>\n",
       "      <td>pneumonia</td>\n",
       "    </tr>\n",
       "  </tbody>\n",
       "</table>\n",
       "<p>4933 rows × 101 columns</p>\n",
       "</div>"
      ],
      "text/plain": [
       "                       0                    1                      2    \\\n",
       "0       0.1572669686353674     -0.5751435673047    0.12668787978384385   \n",
       "1      -0.8357224368221275  -1.7313486451456674    -0.2832128892433425   \n",
       "2     -0.31020029495836293   0.7855158527897361    -1.2895001419823624   \n",
       "3       0.3867202734341585  -0.5595308940567283    -0.5285513844520184   \n",
       "4      -1.0129177077795697  0.23905031743388666    -1.0146668934900887   \n",
       "...                    ...                  ...                    ...   \n",
       "4928   -0.6220917522521094  -0.3290027006663462      3.225325524561807   \n",
       "4929   -1.0515478795743878   1.1733035817456687   -0.00296470764511297   \n",
       "4930  -0.21058937463242725  -0.6801585219212779     2.0241955022781726   \n",
       "4931     2.300920081949459   1.6968655542823687  -0.036064676922291254   \n",
       "4932   0.22276716121618187  -0.8427822362723707     0.2886490698244582   \n",
       "\n",
       "                       3                     4                     5    \\\n",
       "0       0.6768619115638205   0.12646136564845298   -1.9198492690708728   \n",
       "1      -0.3267970267264208     2.225977714144977     0.519542913738108   \n",
       "2      -1.0894517782157338  -0.12850648608614182  -0.19491822694475236   \n",
       "3       0.9997883417388166    2.0793171054372417   -0.9376887471568977   \n",
       "4       0.7433396123270157   -0.6166523282832391   0.09682027483135928   \n",
       "...                    ...                   ...                   ...   \n",
       "4928  -0.14152420404212124     0.659888585080716    -1.817976784245516   \n",
       "4929   -0.3172892482184532   -0.3172478584225614    1.9851749591824865   \n",
       "4930  -0.03779874840838618    0.1351427209762704   -0.9519159113292575   \n",
       "4931   -1.1542843848544975    0.6399207024915792    0.8567945581869038   \n",
       "4932     0.923072282885291   0.38425385077978796   -0.6395863246310989   \n",
       "\n",
       "                       6                     7                     8    \\\n",
       "0       1.7324391892693887    0.6165822626790302    0.3293250216180348   \n",
       "1     -0.05967076909497569   -0.9518324090548493    1.0511325714207704   \n",
       "2       1.7179805385261233   -0.7484331389259488    -1.279297905819819   \n",
       "3       -0.492586425127101  -0.47758461515481443    0.9003613071186041   \n",
       "4      0.44368493106185103    2.6755468625279915    0.5250624250062926   \n",
       "...                    ...                   ...                   ...   \n",
       "4928    -0.276273706745958    0.7860533259120324  -0.20727182920933399   \n",
       "4929    1.0222493311619267   0.49245903876034636    1.2231284847888888   \n",
       "4930   -0.6023554507203002    2.6588437535775373    1.0945050189965162   \n",
       "4931   -1.3109279782217267   -0.7030273344612862    0.2697635038391198   \n",
       "4932  -0.06117629455155563   0.09818964314170554    0.9668804111356422   \n",
       "\n",
       "                      9    ...                    91                    92   \\\n",
       "0     -1.1493721861709472  ...    -0.9933243349219238   -1.6304201463070906   \n",
       "1     -1.5423913191516938  ...     1.4286403694254382   0.21492445281762396   \n",
       "2      1.7028705588642876  ...     -1.034225142322296  -0.20892849239310327   \n",
       "3      1.6670533788032431  ...  -0.006582665608985058  -0.39921817601812565   \n",
       "4      0.8339258731962852  ...     1.7671982480800932   -0.7832794412544125   \n",
       "...                   ...  ...                    ...                   ...   \n",
       "4928  -0.5263355834658527  ...    0.47110169040060074   -0.6871897454001419   \n",
       "4929  -0.6294687950854969  ...    -0.7308752306879673    0.5511832205189225   \n",
       "4930  0.11566367466804894  ...    -0.9504610834408538   -0.9464277965994826   \n",
       "4931    0.554876353878161  ...    -0.5496357442514755   -2.4014812331062245   \n",
       "4932  -0.8094554972188674  ...     0.7919619262247123   -1.2848463854829626   \n",
       "\n",
       "                       93                   94                   95   \\\n",
       "0     0.023476119328459357  -1.5398981130055838   0.8871276760053102   \n",
       "1       0.2367266548234994   0.7356566412318781   0.7933243514723572   \n",
       "2       0.4664602985182261  -0.7332807654894302  0.29346437381590657   \n",
       "3      -1.2021249547659822    2.080307440363077  -0.4231465421115514   \n",
       "4       0.4076333166170647  -0.4636022810525782   0.6093340070964288   \n",
       "...                    ...                  ...                  ...   \n",
       "4928   0.30430400270268193  -1.0858956665638266  -0.5622427516054236   \n",
       "4929  -0.33428357772397715   0.2693068778989378  -0.3352565844344862   \n",
       "4930    -1.597649504451558   0.5546779458333815  0.13204839064084106   \n",
       "4931   0.46396197067402534   -1.656399901064892  0.20800802659430218   \n",
       "4932   -0.9438573276568076   0.7011715010037807  -0.1236102037326028   \n",
       "\n",
       "                      96                     97                     98   \\\n",
       "0     -0.5390077421300565     0.9770791308098298     0.7377718992091017   \n",
       "1     -0.9477045363246078  -0.043213843456927394   -0.06089144638060754   \n",
       "2     0.01590860525721144    0.12991518808013874     0.6082296408769199   \n",
       "3      1.6474135122194047     1.1499268719934541    -2.4289439845639307   \n",
       "4      1.1197179326396443     0.6625438408035123    -1.0780701074124028   \n",
       "...                   ...                    ...                    ...   \n",
       "4928   1.7648424812985615   -0.48986291253953945     1.1106223195289977   \n",
       "4929  -0.6821032711567999    -0.8909170497840734    -0.3422306181909494   \n",
       "4930   -2.051182513989279    -0.5807657171233044     1.3655499720559499   \n",
       "4931  -0.9440476895859031     0.8887237953263709    -0.1927811481367094   \n",
       "4932  -1.8719440430315146    -0.5928025316631209  0.0007814505378773548   \n",
       "\n",
       "                       99         100  \n",
       "0     -0.48151133301988425  pneumonia  \n",
       "1       0.4523886393127524     normal  \n",
       "2       1.0033015449687213     normal  \n",
       "3        1.754038529665183  pneumonia  \n",
       "4        0.393151139887864  pneumonia  \n",
       "...                    ...        ...  \n",
       "4928    0.5868364879079779  pneumonia  \n",
       "4929   -0.5723155439183917     normal  \n",
       "4930   -0.1492962047878799  pneumonia  \n",
       "4931    0.3072388442843738  pneumonia  \n",
       "4932    1.1370838620936337  pneumonia  \n",
       "\n",
       "[4933 rows x 101 columns]"
      ]
     },
     "execution_count": 39,
     "metadata": {},
     "output_type": "execute_result"
    }
   ],
   "source": [
    "train"
   ]
  },
  {
   "cell_type": "code",
   "execution_count": 40,
   "metadata": {},
   "outputs": [
    {
     "data": {
      "text/html": [
       "<div>\n",
       "<style scoped>\n",
       "    .dataframe tbody tr th:only-of-type {\n",
       "        vertical-align: middle;\n",
       "    }\n",
       "\n",
       "    .dataframe tbody tr th {\n",
       "        vertical-align: top;\n",
       "    }\n",
       "\n",
       "    .dataframe thead th {\n",
       "        text-align: right;\n",
       "    }\n",
       "</style>\n",
       "<table border=\"1\" class=\"dataframe\">\n",
       "  <thead>\n",
       "    <tr style=\"text-align: right;\">\n",
       "      <th></th>\n",
       "      <th>0</th>\n",
       "      <th>1</th>\n",
       "      <th>2</th>\n",
       "      <th>3</th>\n",
       "      <th>4</th>\n",
       "      <th>5</th>\n",
       "      <th>6</th>\n",
       "      <th>7</th>\n",
       "      <th>8</th>\n",
       "      <th>9</th>\n",
       "      <th>...</th>\n",
       "      <th>91</th>\n",
       "      <th>92</th>\n",
       "      <th>93</th>\n",
       "      <th>94</th>\n",
       "      <th>95</th>\n",
       "      <th>96</th>\n",
       "      <th>97</th>\n",
       "      <th>98</th>\n",
       "      <th>99</th>\n",
       "      <th>100</th>\n",
       "    </tr>\n",
       "  </thead>\n",
       "  <tbody>\n",
       "    <tr>\n",
       "      <th>0</th>\n",
       "      <td>-0.472328445619833</td>\n",
       "      <td>1.0856749104255496</td>\n",
       "      <td>-0.7498223394349696</td>\n",
       "      <td>-0.28546741290400235</td>\n",
       "      <td>-0.6605396680202078</td>\n",
       "      <td>1.1559979843599213</td>\n",
       "      <td>1.4794016430836576</td>\n",
       "      <td>2.15320274713804</td>\n",
       "      <td>-0.7364165612510152</td>\n",
       "      <td>-0.5757419568633225</td>\n",
       "      <td>...</td>\n",
       "      <td>-0.6281149271212726</td>\n",
       "      <td>2.7650397892172216</td>\n",
       "      <td>0.3881212100210379</td>\n",
       "      <td>0.01781955262311996</td>\n",
       "      <td>0.5642658508498739</td>\n",
       "      <td>3.5880236741270175</td>\n",
       "      <td>1.2541843479752528</td>\n",
       "      <td>-0.18517366587103312</td>\n",
       "      <td>-0.04209246187223929</td>\n",
       "      <td>normal</td>\n",
       "    </tr>\n",
       "    <tr>\n",
       "      <th>1</th>\n",
       "      <td>-1.6112131578610644</td>\n",
       "      <td>0.13864809854227939</td>\n",
       "      <td>-0.30914738059180874</td>\n",
       "      <td>0.43426502539878725</td>\n",
       "      <td>1.2728246102712868</td>\n",
       "      <td>0.9180796591736442</td>\n",
       "      <td>-0.86023493616095</td>\n",
       "      <td>0.47094557777077317</td>\n",
       "      <td>1.993506611985877</td>\n",
       "      <td>0.19778872771441705</td>\n",
       "      <td>...</td>\n",
       "      <td>0.6674312350822625</td>\n",
       "      <td>-0.2804143479302836</td>\n",
       "      <td>0.7180706435319085</td>\n",
       "      <td>-0.7328752632336083</td>\n",
       "      <td>0.0021227643670673683</td>\n",
       "      <td>-0.20964886497054908</td>\n",
       "      <td>-0.5699398770960721</td>\n",
       "      <td>1.0343751798653746</td>\n",
       "      <td>0.07364042899342974</td>\n",
       "      <td>normal</td>\n",
       "    </tr>\n",
       "    <tr>\n",
       "      <th>2</th>\n",
       "      <td>-1.3952673776523947</td>\n",
       "      <td>0.49855169717188313</td>\n",
       "      <td>-0.49942465842019046</td>\n",
       "      <td>1.3210796058087326</td>\n",
       "      <td>-0.04665892869271664</td>\n",
       "      <td>0.6030964919311028</td>\n",
       "      <td>-0.7527919912364244</td>\n",
       "      <td>1.658665566536212</td>\n",
       "      <td>-0.3478204833248322</td>\n",
       "      <td>-1.2543084590726163</td>\n",
       "      <td>...</td>\n",
       "      <td>0.07801965003516405</td>\n",
       "      <td>-1.768159313815759</td>\n",
       "      <td>0.3829998016719104</td>\n",
       "      <td>-0.5615095463375139</td>\n",
       "      <td>2.1624613362951077</td>\n",
       "      <td>2.4586357072554192</td>\n",
       "      <td>-1.7344967698418294</td>\n",
       "      <td>0.9189371578179882</td>\n",
       "      <td>-0.8814727071071546</td>\n",
       "      <td>pneumonia</td>\n",
       "    </tr>\n",
       "    <tr>\n",
       "      <th>3</th>\n",
       "      <td>-0.18281017537755473</td>\n",
       "      <td>-0.46649077825680835</td>\n",
       "      <td>0.3339162358458726</td>\n",
       "      <td>0.15199000596105314</td>\n",
       "      <td>-1.2880838073385181</td>\n",
       "      <td>0.6675363757445141</td>\n",
       "      <td>-0.6142379517779144</td>\n",
       "      <td>1.0653365769036247</td>\n",
       "      <td>0.09336352322026643</td>\n",
       "      <td>1.3063378605220788</td>\n",
       "      <td>...</td>\n",
       "      <td>-0.7279842150034382</td>\n",
       "      <td>-0.18025492535409474</td>\n",
       "      <td>-0.04303890090843188</td>\n",
       "      <td>0.16946606578800066</td>\n",
       "      <td>0.7702358710675781</td>\n",
       "      <td>-0.26762330165167636</td>\n",
       "      <td>-0.9242217738528867</td>\n",
       "      <td>0.7192769695043251</td>\n",
       "      <td>1.59010302325686</td>\n",
       "      <td>normal</td>\n",
       "    </tr>\n",
       "    <tr>\n",
       "      <th>4</th>\n",
       "      <td>0.07626927209646203</td>\n",
       "      <td>-0.4953973127813742</td>\n",
       "      <td>-0.6319941393038025</td>\n",
       "      <td>-1.4987221595310685</td>\n",
       "      <td>0.9311405347800872</td>\n",
       "      <td>0.5298888658260776</td>\n",
       "      <td>-0.7853116860066612</td>\n",
       "      <td>1.255342026495359</td>\n",
       "      <td>-1.2564783075337138</td>\n",
       "      <td>0.9975266797921579</td>\n",
       "      <td>...</td>\n",
       "      <td>1.3734011758601452</td>\n",
       "      <td>0.1317821116051737</td>\n",
       "      <td>0.8889059770333151</td>\n",
       "      <td>-2.067775985076586</td>\n",
       "      <td>-2.914500138460401</td>\n",
       "      <td>-0.9910649633738259</td>\n",
       "      <td>0.757488617804167</td>\n",
       "      <td>-0.8106010455778169</td>\n",
       "      <td>0.7207733553175807</td>\n",
       "      <td>pneumonia</td>\n",
       "    </tr>\n",
       "    <tr>\n",
       "      <th>...</th>\n",
       "      <td>...</td>\n",
       "      <td>...</td>\n",
       "      <td>...</td>\n",
       "      <td>...</td>\n",
       "      <td>...</td>\n",
       "      <td>...</td>\n",
       "      <td>...</td>\n",
       "      <td>...</td>\n",
       "      <td>...</td>\n",
       "      <td>...</td>\n",
       "      <td>...</td>\n",
       "      <td>...</td>\n",
       "      <td>...</td>\n",
       "      <td>...</td>\n",
       "      <td>...</td>\n",
       "      <td>...</td>\n",
       "      <td>...</td>\n",
       "      <td>...</td>\n",
       "      <td>...</td>\n",
       "      <td>...</td>\n",
       "      <td>...</td>\n",
       "    </tr>\n",
       "    <tr>\n",
       "      <th>619</th>\n",
       "      <td>0.03639715930746186</td>\n",
       "      <td>0.7823066880840358</td>\n",
       "      <td>-0.3113275790278836</td>\n",
       "      <td>2.2756542749549737</td>\n",
       "      <td>0.7431507012367299</td>\n",
       "      <td>-0.1699072411135659</td>\n",
       "      <td>0.6418198367471165</td>\n",
       "      <td>-0.39331763748565574</td>\n",
       "      <td>0.10873009676236084</td>\n",
       "      <td>1.3287015976528926</td>\n",
       "      <td>...</td>\n",
       "      <td>-1.012573856380713</td>\n",
       "      <td>0.6418994309697126</td>\n",
       "      <td>0.38822090899349926</td>\n",
       "      <td>-0.8046948758177994</td>\n",
       "      <td>0.3117366426412593</td>\n",
       "      <td>-1.939007269836996</td>\n",
       "      <td>-1.6089598684835507</td>\n",
       "      <td>2.2801905617909135</td>\n",
       "      <td>0.985554938023258</td>\n",
       "      <td>pneumonia</td>\n",
       "    </tr>\n",
       "    <tr>\n",
       "      <th>620</th>\n",
       "      <td>-1.2858367272031985</td>\n",
       "      <td>-0.09786916758070803</td>\n",
       "      <td>-1.6542770047995572</td>\n",
       "      <td>2.41535493182398</td>\n",
       "      <td>0.0011433508334466466</td>\n",
       "      <td>0.7233494644296105</td>\n",
       "      <td>-2.388542055009293</td>\n",
       "      <td>0.6366378679989734</td>\n",
       "      <td>0.49111733597736323</td>\n",
       "      <td>-0.9752327172568886</td>\n",
       "      <td>...</td>\n",
       "      <td>-1.6734154849196288</td>\n",
       "      <td>0.9993842723151426</td>\n",
       "      <td>0.4628880463954262</td>\n",
       "      <td>0.6673738351914519</td>\n",
       "      <td>-1.094061669753242</td>\n",
       "      <td>0.8643626712542201</td>\n",
       "      <td>1.6570935011029104</td>\n",
       "      <td>1.2699034795177928</td>\n",
       "      <td>-1.383064545357036</td>\n",
       "      <td>pneumonia</td>\n",
       "    </tr>\n",
       "    <tr>\n",
       "      <th>621</th>\n",
       "      <td>0.5238222497771975</td>\n",
       "      <td>-1.5117627302426342</td>\n",
       "      <td>0.4337867584050859</td>\n",
       "      <td>0.21110394324079676</td>\n",
       "      <td>-0.08968876033918047</td>\n",
       "      <td>-0.5221752653369808</td>\n",
       "      <td>1.7112085238165038</td>\n",
       "      <td>0.4594712405765985</td>\n",
       "      <td>-1.8703578220525747</td>\n",
       "      <td>-0.39937879128606046</td>\n",
       "      <td>...</td>\n",
       "      <td>0.5136496778685096</td>\n",
       "      <td>-0.053010218711275515</td>\n",
       "      <td>0.355692370643106</td>\n",
       "      <td>-0.23602347463785286</td>\n",
       "      <td>-0.5041837061896773</td>\n",
       "      <td>-0.1438119596063305</td>\n",
       "      <td>-0.518827237889777</td>\n",
       "      <td>0.6660620677972664</td>\n",
       "      <td>1.675814387586313</td>\n",
       "      <td>pneumonia</td>\n",
       "    </tr>\n",
       "    <tr>\n",
       "      <th>622</th>\n",
       "      <td>-0.833359176399394</td>\n",
       "      <td>0.5555129678149998</td>\n",
       "      <td>-1.4567653884719358</td>\n",
       "      <td>-0.7363407469810624</td>\n",
       "      <td>-0.22629740308460525</td>\n",
       "      <td>2.2644323430572717</td>\n",
       "      <td>-0.9081605354416695</td>\n",
       "      <td>0.42527642541770544</td>\n",
       "      <td>-0.45845550983165495</td>\n",
       "      <td>1.1637344096190032</td>\n",
       "      <td>...</td>\n",
       "      <td>-2.4349923962970945</td>\n",
       "      <td>-1.3421895111788302</td>\n",
       "      <td>0.9234631128214166</td>\n",
       "      <td>0.6233034169342374</td>\n",
       "      <td>-0.5190733716315702</td>\n",
       "      <td>0.20608546114074117</td>\n",
       "      <td>0.3777488306281593</td>\n",
       "      <td>-0.11672203664793739</td>\n",
       "      <td>0.7853140579003111</td>\n",
       "      <td>pneumonia</td>\n",
       "    </tr>\n",
       "    <tr>\n",
       "      <th>623</th>\n",
       "      <td>1.3380108104140156</td>\n",
       "      <td>-0.57214533414723</td>\n",
       "      <td>-1.0827398370118677</td>\n",
       "      <td>1.0955112699687197</td>\n",
       "      <td>0.7222015288408767</td>\n",
       "      <td>0.3590819123754603</td>\n",
       "      <td>0.977525252780346</td>\n",
       "      <td>-0.6817317377294432</td>\n",
       "      <td>-0.5478668728181514</td>\n",
       "      <td>0.8606009612704404</td>\n",
       "      <td>...</td>\n",
       "      <td>-1.8769633453471946</td>\n",
       "      <td>2.4412695275928256</td>\n",
       "      <td>-0.4518878880460023</td>\n",
       "      <td>0.7440179187129463</td>\n",
       "      <td>-0.5576645710501723</td>\n",
       "      <td>0.2117826660200586</td>\n",
       "      <td>1.290103403285852</td>\n",
       "      <td>0.1924176694792265</td>\n",
       "      <td>-0.5225341168863505</td>\n",
       "      <td>pneumonia</td>\n",
       "    </tr>\n",
       "  </tbody>\n",
       "</table>\n",
       "<p>624 rows × 101 columns</p>\n",
       "</div>"
      ],
      "text/plain": [
       "                      0                     1                     2    \\\n",
       "0      -0.472328445619833    1.0856749104255496   -0.7498223394349696   \n",
       "1     -1.6112131578610644   0.13864809854227939  -0.30914738059180874   \n",
       "2     -1.3952673776523947   0.49855169717188313  -0.49942465842019046   \n",
       "3    -0.18281017537755473  -0.46649077825680835    0.3339162358458726   \n",
       "4     0.07626927209646203   -0.4953973127813742   -0.6319941393038025   \n",
       "..                    ...                   ...                   ...   \n",
       "619   0.03639715930746186    0.7823066880840358   -0.3113275790278836   \n",
       "620   -1.2858367272031985  -0.09786916758070803   -1.6542770047995572   \n",
       "621    0.5238222497771975   -1.5117627302426342    0.4337867584050859   \n",
       "622    -0.833359176399394    0.5555129678149998   -1.4567653884719358   \n",
       "623    1.3380108104140156     -0.57214533414723   -1.0827398370118677   \n",
       "\n",
       "                      3                      4                    5    \\\n",
       "0    -0.28546741290400235    -0.6605396680202078   1.1559979843599213   \n",
       "1     0.43426502539878725     1.2728246102712868   0.9180796591736442   \n",
       "2      1.3210796058087326   -0.04665892869271664   0.6030964919311028   \n",
       "3     0.15199000596105314    -1.2880838073385181   0.6675363757445141   \n",
       "4     -1.4987221595310685     0.9311405347800872   0.5298888658260776   \n",
       "..                    ...                    ...                  ...   \n",
       "619    2.2756542749549737     0.7431507012367299  -0.1699072411135659   \n",
       "620      2.41535493182398  0.0011433508334466466   0.7233494644296105   \n",
       "621   0.21110394324079676   -0.08968876033918047  -0.5221752653369808   \n",
       "622   -0.7363407469810624   -0.22629740308460525   2.2644323430572717   \n",
       "623    1.0955112699687197     0.7222015288408767   0.3590819123754603   \n",
       "\n",
       "                     6                     7                     8    \\\n",
       "0     1.4794016430836576      2.15320274713804   -0.7364165612510152   \n",
       "1      -0.86023493616095   0.47094557777077317     1.993506611985877   \n",
       "2    -0.7527919912364244     1.658665566536212   -0.3478204833248322   \n",
       "3    -0.6142379517779144    1.0653365769036247   0.09336352322026643   \n",
       "4    -0.7853116860066612     1.255342026495359   -1.2564783075337138   \n",
       "..                   ...                   ...                   ...   \n",
       "619   0.6418198367471165  -0.39331763748565574   0.10873009676236084   \n",
       "620   -2.388542055009293    0.6366378679989734   0.49111733597736323   \n",
       "621   1.7112085238165038    0.4594712405765985   -1.8703578220525747   \n",
       "622  -0.9081605354416695   0.42527642541770544  -0.45845550983165495   \n",
       "623    0.977525252780346   -0.6817317377294432   -0.5478668728181514   \n",
       "\n",
       "                      9    ...                  91                     92   \\\n",
       "0     -0.5757419568633225  ...  -0.6281149271212726     2.7650397892172216   \n",
       "1     0.19778872771441705  ...   0.6674312350822625    -0.2804143479302836   \n",
       "2     -1.2543084590726163  ...  0.07801965003516405     -1.768159313815759   \n",
       "3      1.3063378605220788  ...  -0.7279842150034382   -0.18025492535409474   \n",
       "4      0.9975266797921579  ...   1.3734011758601452     0.1317821116051737   \n",
       "..                    ...  ...                  ...                    ...   \n",
       "619    1.3287015976528926  ...   -1.012573856380713     0.6418994309697126   \n",
       "620   -0.9752327172568886  ...  -1.6734154849196288     0.9993842723151426   \n",
       "621  -0.39937879128606046  ...   0.5136496778685096  -0.053010218711275515   \n",
       "622    1.1637344096190032  ...  -2.4349923962970945    -1.3421895111788302   \n",
       "623    0.8606009612704404  ...  -1.8769633453471946     2.4412695275928256   \n",
       "\n",
       "                      93                    94                     95   \\\n",
       "0      0.3881212100210379   0.01781955262311996     0.5642658508498739   \n",
       "1      0.7180706435319085   -0.7328752632336083  0.0021227643670673683   \n",
       "2      0.3829998016719104   -0.5615095463375139     2.1624613362951077   \n",
       "3    -0.04303890090843188   0.16946606578800066     0.7702358710675781   \n",
       "4      0.8889059770333151    -2.067775985076586     -2.914500138460401   \n",
       "..                    ...                   ...                    ...   \n",
       "619   0.38822090899349926   -0.8046948758177994     0.3117366426412593   \n",
       "620    0.4628880463954262    0.6673738351914519     -1.094061669753242   \n",
       "621     0.355692370643106  -0.23602347463785286    -0.5041837061896773   \n",
       "622    0.9234631128214166    0.6233034169342374    -0.5190733716315702   \n",
       "623   -0.4518878880460023    0.7440179187129463    -0.5576645710501723   \n",
       "\n",
       "                      96                   97                    98   \\\n",
       "0      3.5880236741270175   1.2541843479752528  -0.18517366587103312   \n",
       "1    -0.20964886497054908  -0.5699398770960721    1.0343751798653746   \n",
       "2      2.4586357072554192  -1.7344967698418294    0.9189371578179882   \n",
       "3    -0.26762330165167636  -0.9242217738528867    0.7192769695043251   \n",
       "4     -0.9910649633738259    0.757488617804167   -0.8106010455778169   \n",
       "..                    ...                  ...                   ...   \n",
       "619    -1.939007269836996  -1.6089598684835507    2.2801905617909135   \n",
       "620    0.8643626712542201   1.6570935011029104    1.2699034795177928   \n",
       "621   -0.1438119596063305   -0.518827237889777    0.6660620677972664   \n",
       "622   0.20608546114074117   0.3777488306281593  -0.11672203664793739   \n",
       "623    0.2117826660200586    1.290103403285852    0.1924176694792265   \n",
       "\n",
       "                      99         100  \n",
       "0    -0.04209246187223929     normal  \n",
       "1     0.07364042899342974     normal  \n",
       "2     -0.8814727071071546  pneumonia  \n",
       "3        1.59010302325686     normal  \n",
       "4      0.7207733553175807  pneumonia  \n",
       "..                    ...        ...  \n",
       "619     0.985554938023258  pneumonia  \n",
       "620    -1.383064545357036  pneumonia  \n",
       "621     1.675814387586313  pneumonia  \n",
       "622    0.7853140579003111  pneumonia  \n",
       "623   -0.5225341168863505  pneumonia  \n",
       "\n",
       "[624 rows x 101 columns]"
      ]
     },
     "execution_count": 40,
     "metadata": {},
     "output_type": "execute_result"
    }
   ],
   "source": [
    "test"
   ]
  },
  {
   "cell_type": "code",
   "execution_count": 41,
   "metadata": {},
   "outputs": [],
   "source": [
    "X_train = train.iloc[:, :-1].values\n",
    "Y_train = train.iloc[:,-1].values\n",
    "X_test = test.iloc[:, :-1].values\n",
    "Y_test = test.iloc[:,-1].values"
   ]
  },
  {
   "cell_type": "markdown",
   "metadata": {},
   "source": [
    "# Training a Kernel SVM model"
   ]
  },
  {
   "cell_type": "code",
   "execution_count": 42,
   "metadata": {},
   "outputs": [
    {
     "data": {
      "text/plain": [
       "SVC(C=1.0, break_ties=False, cache_size=200, class_weight=None, coef0=0.0,\n",
       "    decision_function_shape='ovr', degree=3, gamma='scale', kernel='rbf',\n",
       "    max_iter=-1, probability=False, random_state=None, shrinking=True,\n",
       "    tol=0.001, verbose=False)"
      ]
     },
     "execution_count": 42,
     "metadata": {},
     "output_type": "execute_result"
    }
   ],
   "source": [
    "classifier = SVC(kernel = 'rbf')\n",
    "classifier.fit(X_train, Y_train)"
   ]
  },
  {
   "cell_type": "markdown",
   "metadata": {},
   "source": [
    "## Making prediction on test set"
   ]
  },
  {
   "cell_type": "code",
   "execution_count": 46,
   "metadata": {},
   "outputs": [],
   "source": [
    "Y_pred = classifier.predict(X_test)\n",
    "Y_predTrain = classifier.predict(X_train)"
   ]
  },
  {
   "cell_type": "markdown",
   "metadata": {},
   "source": [
    "## Evaluating Results"
   ]
  },
  {
   "cell_type": "code",
   "execution_count": 47,
   "metadata": {},
   "outputs": [
    {
     "data": {
      "text/plain": [
       "0.7281573079262113"
      ]
     },
     "execution_count": 47,
     "metadata": {},
     "output_type": "execute_result"
    }
   ],
   "source": [
    "from sklearn.metrics import accuracy_score\n",
    "accuracy_score(Y_train, Y_predTrain)  #Training Accuaracy"
   ]
  },
  {
   "cell_type": "code",
   "execution_count": 48,
   "metadata": {
    "scrolled": true
   },
   "outputs": [
    {
     "data": {
      "text/plain": [
       "0.625"
      ]
     },
     "execution_count": 48,
     "metadata": {},
     "output_type": "execute_result"
    }
   ],
   "source": [
    "accuracy_score(Y_test, Y_pred)  #Testing Accuracy"
   ]
  },
  {
   "cell_type": "code",
   "execution_count": 49,
   "metadata": {},
   "outputs": [
    {
     "data": {
      "text/plain": [
       "array([[  0, 234],\n",
       "       [  0, 390]], dtype=int64)"
      ]
     },
     "execution_count": 49,
     "metadata": {},
     "output_type": "execute_result"
    }
   ],
   "source": [
    "from sklearn.metrics import confusion_matrix\n",
    "confusion_matrix(Y_test, Y_pred)"
   ]
  },
  {
   "cell_type": "code",
   "execution_count": 50,
   "metadata": {},
   "outputs": [
    {
     "data": {
      "text/plain": [
       "array([[   0, 1341],\n",
       "       [   0, 3592]], dtype=int64)"
      ]
     },
     "execution_count": 50,
     "metadata": {},
     "output_type": "execute_result"
    }
   ],
   "source": [
    "confusion_matrix(Y_train, Y_predTrain)"
   ]
  },
  {
   "cell_type": "markdown",
   "metadata": {},
   "source": [
    "# Training a linear SVM model"
   ]
  },
  {
   "cell_type": "code",
   "execution_count": 51,
   "metadata": {},
   "outputs": [
    {
     "data": {
      "text/plain": [
       "SVC(C=1.0, break_ties=False, cache_size=200, class_weight=None, coef0=0.0,\n",
       "    decision_function_shape='ovr', degree=3, gamma='scale', kernel='linear',\n",
       "    max_iter=-1, probability=False, random_state=None, shrinking=True,\n",
       "    tol=0.001, verbose=False)"
      ]
     },
     "execution_count": 51,
     "metadata": {},
     "output_type": "execute_result"
    }
   ],
   "source": [
    "classifier = SVC(kernel = 'linear')\n",
    "classifier.fit(X_train, Y_train)"
   ]
  },
  {
   "cell_type": "markdown",
   "metadata": {},
   "source": [
    "## Making prediction on test set"
   ]
  },
  {
   "cell_type": "code",
   "execution_count": 52,
   "metadata": {},
   "outputs": [],
   "source": [
    "Y_pred = classifier.predict(X_test)\n",
    "Y_predTrain = classifier.predict(X_train)"
   ]
  },
  {
   "cell_type": "markdown",
   "metadata": {},
   "source": [
    "## Evaluating Results"
   ]
  },
  {
   "cell_type": "code",
   "execution_count": 53,
   "metadata": {},
   "outputs": [
    {
     "data": {
      "text/plain": [
       "0.7281573079262113"
      ]
     },
     "execution_count": 53,
     "metadata": {},
     "output_type": "execute_result"
    }
   ],
   "source": [
    "from sklearn.metrics import accuracy_score\n",
    "accuracy_score(Y_train, Y_predTrain)  #Training Accuaracy"
   ]
  },
  {
   "cell_type": "code",
   "execution_count": 54,
   "metadata": {},
   "outputs": [
    {
     "data": {
      "text/plain": [
       "0.625"
      ]
     },
     "execution_count": 54,
     "metadata": {},
     "output_type": "execute_result"
    }
   ],
   "source": [
    "accuracy_score(Y_test, Y_pred)  #Testing Accuracy"
   ]
  },
  {
   "cell_type": "code",
   "execution_count": 55,
   "metadata": {},
   "outputs": [
    {
     "data": {
      "text/plain": [
       "array([[  0, 234],\n",
       "       [  0, 390]], dtype=int64)"
      ]
     },
     "execution_count": 55,
     "metadata": {},
     "output_type": "execute_result"
    }
   ],
   "source": [
    "from sklearn.metrics import confusion_matrix\n",
    "confusion_matrix(Y_test, Y_pred)"
   ]
  },
  {
   "cell_type": "code",
   "execution_count": 56,
   "metadata": {},
   "outputs": [
    {
     "data": {
      "text/plain": [
       "array([[   0, 1341],\n",
       "       [   0, 3592]], dtype=int64)"
      ]
     },
     "execution_count": 56,
     "metadata": {},
     "output_type": "execute_result"
    }
   ],
   "source": [
    "confusion_matrix(Y_train, Y_predTrain)"
   ]
  },
  {
   "cell_type": "markdown",
   "metadata": {},
   "source": [
    "# Training a KNN model"
   ]
  },
  {
   "cell_type": "code",
   "execution_count": 57,
   "metadata": {},
   "outputs": [
    {
     "data": {
      "text/plain": [
       "KNeighborsClassifier(algorithm='auto', leaf_size=30, metric='minkowski',\n",
       "                     metric_params=None, n_jobs=None, n_neighbors=5, p=2,\n",
       "                     weights='uniform')"
      ]
     },
     "execution_count": 57,
     "metadata": {},
     "output_type": "execute_result"
    }
   ],
   "source": [
    "from sklearn.neighbors import KNeighborsClassifier\n",
    "classifier = KNeighborsClassifier(n_neighbors = 5, metric = 'minkowski', p = 2)\n",
    "classifier.fit(X_train, Y_train)"
   ]
  },
  {
   "cell_type": "markdown",
   "metadata": {},
   "source": [
    "## Making prediction on test set"
   ]
  },
  {
   "cell_type": "code",
   "execution_count": 58,
   "metadata": {},
   "outputs": [],
   "source": [
    "Y_pred = classifier.predict(X_test)\n",
    "Y_predTrain = classifier.predict(X_train)"
   ]
  },
  {
   "cell_type": "markdown",
   "metadata": {},
   "source": [
    "## Evaluating Results"
   ]
  },
  {
   "cell_type": "code",
   "execution_count": 59,
   "metadata": {},
   "outputs": [
    {
     "data": {
      "text/plain": [
       "0.9172917088992499"
      ]
     },
     "execution_count": 59,
     "metadata": {},
     "output_type": "execute_result"
    }
   ],
   "source": [
    "from sklearn.metrics import accuracy_score\n",
    "accuracy_score(Y_train, Y_predTrain)  #Training Accuaracy"
   ]
  },
  {
   "cell_type": "code",
   "execution_count": 60,
   "metadata": {},
   "outputs": [
    {
     "data": {
      "text/plain": [
       "0.5801282051282052"
      ]
     },
     "execution_count": 60,
     "metadata": {},
     "output_type": "execute_result"
    }
   ],
   "source": [
    "accuracy_score(Y_test, Y_pred)  #Testing Accuracy"
   ]
  },
  {
   "cell_type": "code",
   "execution_count": 61,
   "metadata": {},
   "outputs": [
    {
     "data": {
      "text/plain": [
       "array([[ 35, 199],\n",
       "       [ 63, 327]], dtype=int64)"
      ]
     },
     "execution_count": 61,
     "metadata": {},
     "output_type": "execute_result"
    }
   ],
   "source": [
    "from sklearn.metrics import confusion_matrix\n",
    "confusion_matrix(Y_test, Y_pred)"
   ]
  },
  {
   "cell_type": "code",
   "execution_count": 62,
   "metadata": {},
   "outputs": [
    {
     "data": {
      "text/plain": [
       "array([[1006,  335],\n",
       "       [  73, 3519]], dtype=int64)"
      ]
     },
     "execution_count": 62,
     "metadata": {},
     "output_type": "execute_result"
    }
   ],
   "source": [
    "confusion_matrix(Y_train, Y_predTrain)"
   ]
  },
  {
   "cell_type": "code",
   "execution_count": null,
   "metadata": {},
   "outputs": [],
   "source": []
  }
 ],
 "metadata": {
  "kernelspec": {
   "display_name": "Python 3",
   "language": "python",
   "name": "python3"
  },
  "language_info": {
   "codemirror_mode": {
    "name": "ipython",
    "version": 3
   },
   "file_extension": ".py",
   "mimetype": "text/x-python",
   "name": "python",
   "nbconvert_exporter": "python",
   "pygments_lexer": "ipython3",
   "version": "3.6.10"
  }
 },
 "nbformat": 4,
 "nbformat_minor": 2
}
